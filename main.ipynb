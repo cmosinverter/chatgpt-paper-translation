{
 "cells": [
  {
   "cell_type": "code",
   "execution_count": 1,
   "metadata": {},
   "outputs": [],
   "source": [
    "import os\n",
    "import time\n",
    "from tqdm import tqdm\n",
    "from utils import get_split_list, read_specific_rows, create_txt_file\n",
    "from selenium.webdriver.remote.webdriver import By\n",
    "import undetected_chromedriver as uc\n",
    "from selenium.webdriver.common.keys import Keys\n",
    "\n",
    "class gptParser:\n",
    "    def __init__(self,\n",
    "                 driver,\n",
    "                 gpt_url: str = 'https://chat.openai.com/'):\n",
    "        \"\"\" ChatGPT parser\n",
    "        Args:\n",
    "            driver_path (str, optional): The path of the chromedriver.\n",
    "            gpt_url (str, optional): The url of ChatGPT.\n",
    "        \"\"\"\n",
    "        # Start a webdriver instance and open ChatGPT\n",
    "        self.driver = driver\n",
    "        self.driver.get(gpt_url)\n",
    "\n",
    "    @staticmethod\n",
    "    def get_driver(driver_path: str = None):\n",
    "        options = uc.ChromeOptions()\n",
    "        return uc.Chrome(options=options, executable_path=driver_path) if driver_path is not None else uc.Chrome(options=options)\n",
    "\n",
    "\n",
    "    def __call__(self, msg: str):\n",
    "        # Find the input field and send a question\n",
    "        input_field = self.driver.find_elements(\n",
    "            By.TAG_NAME, 'textarea')[0]\n",
    "        input_field.send_keys(msg)\n",
    "        input_field.send_keys(Keys.RETURN)\n",
    "\n",
    "    def read_respond(self):\n",
    "        try:\n",
    "            response = self.driver.find_elements(By.TAG_NAME, 'p')[-2].text\n",
    "            return response\n",
    "        except:\n",
    "            return None\n",
    "\n",
    "    def new_chat(self):\n",
    "        self.driver.find_element(By.XPATH, '//a[text()=\"New chat\"]').click()\n",
    "\n",
    "    def close(self):\n",
    "        self.driver.quit()"
   ]
  },
  {
   "cell_type": "code",
   "execution_count": 2,
   "metadata": {},
   "outputs": [],
   "source": [
    "driver_path = 'chromedriver.exe'\n",
    "driver = gptParser.get_driver(driver_path)\n",
    "gpt_parser = gptParser(driver)"
   ]
  },
  {
   "cell_type": "code",
   "execution_count": 3,
   "metadata": {},
   "outputs": [],
   "source": [
    "file_name = '1'\n",
    "result = []\n",
    "split_list = get_split_list(file_name)"
   ]
  },
  {
   "cell_type": "code",
   "execution_count": 4,
   "metadata": {},
   "outputs": [
    {
     "name": "stderr",
     "output_type": "stream",
     "text": [
      "100%|██████████| 3/3 [01:00<00:00, 20.06s/it]\n"
     ]
    }
   ],
   "source": [
    "for i in tqdm(range(len(split_list)-1)):\n",
    "    query = read_specific_rows(f'text/{file_name}.txt', split_list[i], split_list[i+1])\n",
    "    gpt_parser(query) # send the query\n",
    "    time.sleep(15)\n",
    "    response = gpt_parser.read_respond()\n",
    "    result.append(response)"
   ]
  },
  {
   "cell_type": "code",
   "execution_count": 5,
   "metadata": {},
   "outputs": [],
   "source": [
    "file_name = f'{file_name}_translated.txt'\n",
    "create_txt_file(result, file_name)"
   ]
  }
 ],
 "metadata": {
  "kernelspec": {
   "display_name": "myenv1",
   "language": "python",
   "name": "python3"
  },
  "language_info": {
   "codemirror_mode": {
    "name": "ipython",
    "version": 3
   },
   "file_extension": ".py",
   "mimetype": "text/x-python",
   "name": "python",
   "nbconvert_exporter": "python",
   "pygments_lexer": "ipython3",
   "version": "3.10.0"
  },
  "orig_nbformat": 4
 },
 "nbformat": 4,
 "nbformat_minor": 2
}
